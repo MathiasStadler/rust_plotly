{
 "cells": [
  {
   "cell_type": "code",
   "execution_count": null,
   "id": "ab17571c",
   "metadata": {},
   "outputs": [],
   "source": [
    "hallo\n"
   ]
  }
 ],
 "metadata": {
  "kernelspec": {
   "display_name": "Rust",
   "language": "rust",
   "name": "rust"
  }
 },
 "nbformat": 4,
 "nbformat_minor": 5
}
