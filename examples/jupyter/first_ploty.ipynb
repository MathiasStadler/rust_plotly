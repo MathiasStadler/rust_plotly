{
 "cells": [
  {
   "cell_type": "markdown",
   "metadata": {},
   "source": [
    "# test out simple plot\n",
    "\n",
    "- [axes](https://plotly.com/python/axes/)"
   ]
  },
  {
   "cell_type": "code",
   "execution_count": 2,
   "metadata": {
    "vscode": {
     "languageId": "rust"
    }
   },
   "outputs": [],
   "source": [
    ":dep plotly\n",
    ":dep ndarray\n",
    ":dep rand_distr"
   ]
  },
  {
   "cell_type": "code",
   "execution_count": 7,
   "metadata": {
    "vscode": {
     "languageId": "rust"
    }
   },
   "outputs": [],
   "source": [
    "use ndarray::Array;\n",
    "use plotly::{\n",
    "    color::{NamedColor, Rgb, Rgba},\n",
    "    common::{\n",
    "        ColorScale, ColorScalePalette, DashType, Fill, Font, Line, LineShape, Marker, Mode,\n",
    "        Orientation,\n",
    "    },\n",
    "    layout::{Axis, BarMode, Layout, Legend, TicksDirection, TraceOrder},\n",
    "    sankey::{Line as SankeyLine, Link, Node},\n",
    "    traces::table::{Cells, Header},\n",
    "    Bar, Plot, Sankey, Scatter, ScatterPolar, Table,\n",
    "};\n",
    "use rand_distr::{Distribution, Normal, Uniform};\n",
    "\n",
    "// Scatter Plots\n",
    "fn simple_scatter_plot() {\n",
    "    let n: usize = 100;\n",
    "    let t: Vec<f64> = Array::linspace(0., 10., n).into_raw_vec_and_offset().0;\n",
    "    let y: Vec<f64> = t.iter().map(|x| x.sin()).collect();\n",
    "\n",
    "    let trace = Scatter::new(t, y).mode(Mode::Markers);\n",
    "    let mut plot = Plot::new();\n",
    "    plot.add_trace(trace);\n",
    "\n",
    "    plot.show();\n",
    "}\n",
    "\n",
    "simple_scatter_plot();"
   ]
  },
  {
   "cell_type": "markdown",
   "metadata": {},
   "source": [
    "# [from here](https://github.com/plotly/plotly.rs)"
   ]
  },
  {
   "cell_type": "code",
   "execution_count": 8,
   "metadata": {
    "vscode": {
     "languageId": "rust"
    }
   },
   "outputs": [],
   "source": [
    "use plotly::{Plot, Scatter};\n",
    "\n",
    "let mut plot = Plot::new();\n",
    "let trace = Scatter::new(vec![0, 1, 2], vec![2, 1, 0]);\n",
    "plot.add_trace(trace);\n",
    "\n",
    "plot.write_html(\"out.html\");"
   ]
  }
 ],
 "metadata": {
  "kernelspec": {
   "display_name": "Rust",
   "language": "rust",
   "name": "rust"
  },
  "language_info": {
   "codemirror_mode": "rust",
   "file_extension": ".rs",
   "mimetype": "text/rust",
   "name": "Rust",
   "pygment_lexer": "rust",
   "version": ""
  }
 },
 "nbformat": 4,
 "nbformat_minor": 2
}
