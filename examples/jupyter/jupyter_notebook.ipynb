{
 "cells": [
  {
   "cell_type": "code",
   "execution_count": null,
   "metadata": {},
   "outputs": [
    {
     "ename": "",
     "evalue": "",
     "output_type": "error",
     "traceback": [
      "\u001b[1;31mRunning cells with 'Python 3.11.2' requires the ipykernel package.\n",
      "\u001b[1;31mRun the following command to install 'ipykernel' into the Python environment. \n",
      "\u001b[1;31mCommand: '/bin/python3 -m pip install ipykernel -U --user --force-reinstall'"
     ]
    }
   ],
   "source": [
    ":dep ndarray = \"0.15.6\"\n",
    ":dep plotly = { version = \">=0.7.0\" }"
   ]
  },
  {
   "cell_type": "code",
   "execution_count": null,
   "metadata": {},
   "outputs": [],
   "source": [
    "extern crate ndarray;\n",
    "extern crate plotly;\n",
    "extern crate rand_distr;"
   ]
  },
  {
   "cell_type": "code",
   "execution_count": null,
   "metadata": {
    "scrolled": true
   },
   "outputs": [],
   "source": [
    "use ndarray::Array;\n",
    "use plotly::common::Mode;\n",
    "use plotly::layout::{Layout};\n",
    "use plotly::{Plot, Scatter};\n",
    "use rand_distr::{num_traits::Float, Distribution};"
   ]
  },
  {
   "cell_type": "code",
   "execution_count": null,
   "metadata": {
    "scrolled": true
   },
   "outputs": [],
   "source": [
    "let x0 = Array::linspace(1.0, 3.0, 200).into_raw_vec();\n",
    "let y0 = x0.iter().map(|v| *v * (v.powf(2.)).sin() + 1.).collect();\n",
    "\n",
    "let trace = Scatter::new(x0, y0);\n",
    "let mut plot = Plot::new();\n",
    "plot.add_trace(trace);\n",
    "\n",
    "let layout = Layout::new().height(525);\n",
    "plot.set_layout(layout);\n",
    "\n",
    "plot.notebook_display();"
   ]
  }
 ],
 "metadata": {
  "kernelspec": {
   "display_name": "Python 3",
   "language": "python",
   "name": "python3"
  },
  "language_info": {
   "codemirror_mode": "rust",
   "file_extension": ".rs",
   "mimetype": "text/rust",
   "name": "python",
   "pygment_lexer": "rust",
   "version": "3.11.2"
  }
 },
 "nbformat": 4,
 "nbformat_minor": 4
}
