{
 "cells": [
  {
   "cell_type": "markdown",
   "metadata": {},
   "source": [
    "# create jupyter notebook with rust kernel"
   ]
  },
  {
   "cell_type": "markdown",
   "metadata": {},
   "source": [
    "- [Manage Jupyter Kernels in VS Code](https://code.visualstudio.com/docs/datascience/jupyter-kernel-management)\n",
    "- [Install the rust-analyzer extension](https://code.visualstudio.com/docs/languages/rust)\n",
    "- [Rust in Visual Studio Code](https://code.visualstudio.com/docs/languages/rust)\n",
    "- - [Evcxr Jupyter Kernel](https://github.com/evcxr/evcxr/tree/main/evcxr_jupyter)\n",
    "- [Rust Crash Course Jupyter Notebooks](https://github.com/prof-merli/rust-crash-course-jupyter-notebooks)"
   ]
  },
  {
   "cell_type": "markdown",
   "metadata": {},
   "source": [
    "## install rust extension rust-analyzer via gui"
   ]
  },
  {
   "cell_type": "markdown",
   "metadata": {},
   "source": [
    "## test rust installation\n",
    "\n",
    "```rust\n",
    "rustc --version\n",
    "rustup update\n",
    "rustc --version\n",
    "\n",
    "```"
   ]
  },
  {
   "cell_type": "markdown",
   "metadata": {},
   "source": [
    "### error: could not create temp file /opt/rust/tmp/53q5q1xqv74v01xa_file\n",
    "\n",
    "```bash\n",
    "rustup update\n",
    "rustc --version\n",
    "info: syncing channel updates for 'stable-armv7-unknown-linux-gnueabihf'\n",
    "error: could not create temp file /opt/rust/tmp/53q5q1xqv74v01xa_file\n",
    "info: cleaning up downloads & tmp directories\n",
    "rustc 1.80.0 (051478957 2024-07-21)\n",
    "\n",
    "# dirty fix\n",
    "chmod -R 0777 /opt/rust\n",
    "\n",
    "```"
   ]
  },
  {
   "cell_type": "markdown",
   "metadata": {},
   "source": [
    "## install evcxr_jupyter\n",
    "\n",
    "```bash\n",
    "cargo install --locked evcxr_jupyter\n",
    "```\n",
    "\n",
    "## activate evcxr_jupyter\n",
    "\n",
    "```bash\n",
    "evcxr_jupyter --install\n",
    "```"
   ]
  }
 ],
 "metadata": {
  "language_info": {
   "name": "python"
  }
 },
 "nbformat": 4,
 "nbformat_minor": 2
}
